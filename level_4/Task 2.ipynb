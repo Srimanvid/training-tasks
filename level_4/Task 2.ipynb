{
 "cells": [
  {
   "cell_type": "code",
   "execution_count": null,
   "metadata": {},
   "outputs": [
    {
     "ename": "IndentationError",
     "evalue": "unindent does not match any outer indentation level (<string>, line 7)",
     "output_type": "error",
     "traceback": [
      "\u001b[1;36m  File \u001b[1;32m<string>:7\u001b[1;36m\u001b[0m\n\u001b[1;33m    outputz.encrypt('mypassword')with open ('outputz.pdf','wb') as encrypted_file\u001b[0m\n\u001b[1;37m                                                                                 ^\u001b[0m\n\u001b[1;31mIndentationError\u001b[0m\u001b[1;31m:\u001b[0m unindent does not match any outer indentation level\n"
     ]
    }
   ],
   "source": [
    "from pypdf import PdfReader, PdfWriter\n",
    "file_path=PdfReader('C:/Users/vidhy/Downloads/RESULT.pdf')\n",
    "outputz=PdfWriter()\n",
    "for page in file_path.pages:\n",
    " if i in 1:\n",
    "     outputz.add_page(page)\n",
    "    outputz.encrypt('mypassword')\n",
    "    with open ('outputz.pdf','wb') as encrypted_file\n",
    "    outputz.write(encrypted_file)\n",
    "\n",
    "\n",
    "\n",
    "\n",
    "\n",
    "\n"
   ]
  }
 ],
 "metadata": {
  "kernelspec": {
   "display_name": "Python 3",
   "language": "python",
   "name": "python3"
  },
  "language_info": {
   "codemirror_mode": {
    "name": "ipython",
    "version": 3
   },
   "file_extension": ".py",
   "mimetype": "text/x-python",
   "name": "python",
   "nbconvert_exporter": "python",
   "pygments_lexer": "ipython3",
   "version": "3.12.6"
  }
 },
 "nbformat": 4,
 "nbformat_minor": 2
}
