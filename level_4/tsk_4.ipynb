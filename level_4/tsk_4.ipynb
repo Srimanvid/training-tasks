{
 "cells": [
  {
   "cell_type": "code",
   "execution_count": 2,
   "metadata": {},
   "outputs": [
    {
     "name": "stdout",
     "output_type": "stream",
     "text": [
      "[1, 2, 3]\n",
      "['A', 'B', 'C']\n"
     ]
    },
    {
     "data": {
      "text/plain": [
       "<bound method Thread.join of <Thread(Thread-10, initial)>>"
      ]
     },
     "execution_count": 2,
     "metadata": {},
     "output_type": "execute_result"
    }
   ],
   "source": [
    "import threading\n",
    "def lit():\n",
    "    print([1,2,3])\n",
    "def let():\n",
    "    print(['A','B','C'])\n",
    "THREAD_1=threading.Thread(lit()) \n",
    "thred_2=threading.Thread(let())\n",
    "THREAD_1.start\n",
    "thred_2.start\n",
    "THREAD_1.join\n",
    "thred_2.join       \n",
    "    "
   ]
  }
 ],
 "metadata": {
  "kernelspec": {
   "display_name": "Python 3",
   "language": "python",
   "name": "python3"
  },
  "language_info": {
   "codemirror_mode": {
    "name": "ipython",
    "version": 3
   },
   "file_extension": ".py",
   "mimetype": "text/x-python",
   "name": "python",
   "nbconvert_exporter": "python",
   "pygments_lexer": "ipython3",
   "version": "3.12.6"
  }
 },
 "nbformat": 4,
 "nbformat_minor": 2
}
