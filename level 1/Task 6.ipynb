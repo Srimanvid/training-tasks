{
 "cells": [
  {
   "cell_type": "code",
   "execution_count": 1,
   "metadata": {},
   "outputs": [
    {
     "name": "stdout",
     "output_type": "stream",
     "text": [
      "Completed Dictionary: {\"'apple'\": 3, 'apple': 4, 'slert': 4}\n"
     ]
    }
   ],
   "source": [
    "\n",
    "my_dict = {}\n",
    "\n",
    "\n",
    "for _ in range(3):\n",
    "\n",
    "    key = input(\"Enter a key (string): \")\n",
    "    value = int(input(\"Enter a value (integer): \"))\n",
    "    my_dict[key] = value\n",
    "\n",
    "print(\"Completed Dictionary:\", my_dict)\n"
   ]
  }
 ],
 "metadata": {
  "kernelspec": {
   "display_name": "Python 3",
   "language": "python",
   "name": "python3"
  },
  "language_info": {
   "codemirror_mode": {
    "name": "ipython",
    "version": 3
   },
   "file_extension": ".py",
   "mimetype": "text/x-python",
   "name": "python",
   "nbconvert_exporter": "python",
   "pygments_lexer": "ipython3",
   "version": "3.12.6"
  }
 },
 "nbformat": 4,
 "nbformat_minor": 2
}
