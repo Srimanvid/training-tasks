{
 "cells": [
  {
   "cell_type": "code",
   "execution_count": 5,
   "metadata": {},
   "outputs": [
    {
     "name": "stdout",
     "output_type": "stream",
     "text": [
      "avg grade:67.0\n",
      "nu.of students passed:1\n"
     ]
    }
   ],
   "source": [
    "stu_gade=[]\n",
    "for i in range(5):\n",
    "    name=input(f'enter the name{i+1}:')\n",
    "while True:\n",
    "    try:\n",
    "        grade=int(input(f'enter the grade for {name}:'))\n",
    "        if 0 <= grade <= 100:\n",
    "            break\n",
    "        else:\n",
    "            print('enter the correct stdent marks')\n",
    "    except ValueError:\n",
    "        print('invalid input') \n",
    "stu_gade.append((name,grade))\n",
    "def calculate_avg(grades):\n",
    "    total=sum(grade for _,grade in grades)\n",
    "    return total / len(grades)\n",
    "def passs_students(grades,passing_mark=60):\n",
    "    return sum(1 for _,grade in grades if grade>passing_mark)\n",
    "avg_grade=calculate_avg(stu_gade)\n",
    "pass_count=passs_students(stu_gade)\n",
    "print(f'avg grade:{avg_grade:.1f}')\n",
    "print(f'nu.of students passed:{pass_count}')\n",
    "    \n",
    "\n",
    "           \n",
    "            \n",
    "                \n",
    "    \n",
    "    \n"
   ]
  }
 ],
 "metadata": {
  "kernelspec": {
   "display_name": "Python 3",
   "language": "python",
   "name": "python3"
  },
  "language_info": {
   "codemirror_mode": {
    "name": "ipython",
    "version": 3
   },
   "file_extension": ".py",
   "mimetype": "text/x-python",
   "name": "python",
   "nbconvert_exporter": "python",
   "pygments_lexer": "ipython3",
   "version": "3.12.6"
  }
 },
 "nbformat": 4,
 "nbformat_minor": 2
}
