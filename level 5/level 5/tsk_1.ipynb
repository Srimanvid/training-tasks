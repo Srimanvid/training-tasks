{
 "cells": [
  {
   "cell_type": "code",
   "execution_count": 16,
   "metadata": {},
   "outputs": [
    {
     "name": "stdout",
     "output_type": "stream",
     "text": [
      "total expanses:35000\n",
      "total income:82000\n",
      "balance:47000\n"
     ]
    }
   ],
   "source": [
    "income_sources={'salary':70000,\n",
    "                'freelance':12000}\n",
    "exp_cat={'rent':15000,\n",
    "         'food':20000}\n",
    "def total_income(income_dict):\n",
    "    return sum(income_dict.values())\n",
    "def total_exp(exp_dict):\n",
    "    return sum(exp_dict.values())\n",
    "total_exp=total_exp(exp_cat)\n",
    "total_income=total_income(income_sources)\n",
    "balance=(total_income-total_exp)\n",
    "current_balance=balance\n",
    "print(f'total expanses:{total_exp}')\n",
    "print(f'total income:{total_income}')\n",
    "print(f'balance:{current_balance}')\n",
    "\n",
    "\n",
    "\n",
    "    "
   ]
  }
 ],
 "metadata": {
  "kernelspec": {
   "display_name": "Python 3",
   "language": "python",
   "name": "python3"
  },
  "language_info": {
   "codemirror_mode": {
    "name": "ipython",
    "version": 3
   },
   "file_extension": ".py",
   "mimetype": "text/x-python",
   "name": "python",
   "nbconvert_exporter": "python",
   "pygments_lexer": "ipython3",
   "version": "3.12.6"
  }
 },
 "nbformat": 4,
 "nbformat_minor": 2
}
