{
 "cells": [
  {
   "cell_type": "code",
   "execution_count": 2,
   "metadata": {},
   "outputs": [
    {
     "name": "stdout",
     "output_type": "stream",
     "text": [
      "hash value: c60858d03307aa23562043fb84e75172facc0ad9d4cbaf31cadd16dc6e407e40\n"
     ]
    }
   ],
   "source": [
    "import hashlib\n",
    "text_msg=input('enter a txt msg:')\n",
    "with open('message.txt','w') as file:\n",
    "    file.write(text_msg)\n",
    "with open ('message.txt','r') as file:\n",
    "    content=file.read()\n",
    "hash_obj=hashlib.sha256(content.encode())\n",
    "hash_val=hash_obj.hexdigest()\n",
    "with open ('encrypted.txt','w') as file:\n",
    "    file.write(hash_val)\n",
    "print('hash value:',hash_val)    \n",
    "    \n",
    "        \n",
    "       \n"
   ]
  }
 ],
 "metadata": {
  "kernelspec": {
   "display_name": "Python 3",
   "language": "python",
   "name": "python3"
  },
  "language_info": {
   "codemirror_mode": {
    "name": "ipython",
    "version": 3
   },
   "file_extension": ".py",
   "mimetype": "text/x-python",
   "name": "python",
   "nbconvert_exporter": "python",
   "pygments_lexer": "ipython3",
   "version": "3.12.6"
  }
 },
 "nbformat": 4,
 "nbformat_minor": 2
}
